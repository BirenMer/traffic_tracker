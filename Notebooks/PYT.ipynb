{
 "cells": [
  {
   "cell_type": "markdown",
   "id": "de7d974f-fa5a-4e11-8aee-5f76c8e31841",
   "metadata": {},
   "source": [
    "#### Tutorial 1 LISTs\n"
   ]
  },
  {
   "cell_type": "code",
   "execution_count": 1,
   "id": "4502eaf7-409f-4622-a312-fa07105d15f7",
   "metadata": {},
   "outputs": [
    {
     "name": "stdout",
     "output_type": "stream",
     "text": [
      "[1, 3, 4, 5, 6, 67]\n"
     ]
    }
   ],
   "source": [
    "# List ordered, mutable, allows duplicate elements\n",
    "my_list=[1,3,4,5,6,67]\n",
    "print(my_list)"
   ]
  },
  {
   "cell_type": "code",
   "execution_count": 2,
   "id": "43940109-93f1-4846-9a01-081b818c79c5",
   "metadata": {},
   "outputs": [
    {
     "name": "stdout",
     "output_type": "stream",
     "text": [
      "[]\n"
     ]
    }
   ],
   "source": [
    "#We can also use list() function for creating an empty list\n",
    "empty_list=list()\n",
    "print(empty_list)"
   ]
  },
  {
   "cell_type": "code",
   "execution_count": 7,
   "id": "c72fb9ca-9654-48ac-b22a-ccf3488a5c08",
   "metadata": {},
   "outputs": [
    {
     "name": "stdout",
     "output_type": "stream",
     "text": [
      "3 4 5 6 67\n"
     ]
    }
   ],
   "source": [
    "print(my_list[1],my_list[2],\n",
    "my_list[3],\n",
    "my_list[-2],\n",
    "my_list[-1],)"
   ]
  },
  {
   "cell_type": "code",
   "execution_count": 8,
   "id": "64a358e4-a9c2-4443-85ff-0468cc868acc",
   "metadata": {},
   "outputs": [
    {
     "name": "stdout",
     "output_type": "stream",
     "text": [
      "no\n"
     ]
    }
   ],
   "source": [
    "if \"3\" in my_list:\n",
    "    print(\"yes\")\n",
    "else: \n",
    "    print(\"no\")"
   ]
  },
  {
   "cell_type": "code",
   "execution_count": 9,
   "id": "813da8ff-061e-463f-baf9-05e603001985",
   "metadata": {},
   "outputs": [
    {
     "name": "stdout",
     "output_type": "stream",
     "text": [
      "yes\n"
     ]
    }
   ],
   "source": [
    "if 6 in my_list:\n",
    "    print(\"yes\")\n",
    "else: \n",
    "    print(\"no\")"
   ]
  },
  {
   "cell_type": "code",
   "execution_count": 10,
   "id": "abb7dec9-aabe-49b5-9382-0a4b24e6310d",
   "metadata": {},
   "outputs": [],
   "source": [
    "##### List operations \n",
    "my_list.append(\"3\")"
   ]
  },
  {
   "cell_type": "code",
   "execution_count": 11,
   "id": "a9b8d3d6-466c-4515-b452-3ebd146a6929",
   "metadata": {},
   "outputs": [
    {
     "name": "stdout",
     "output_type": "stream",
     "text": [
      "yes\n"
     ]
    }
   ],
   "source": [
    "if \"3\" in my_list:\n",
    "    print(\"yes\")\n",
    "else: \n",
    "    print(\"no\")"
   ]
  },
  {
   "cell_type": "code",
   "execution_count": 12,
   "id": "e3167fba-5876-4c51-aa41-7435459cc03c",
   "metadata": {},
   "outputs": [
    {
     "name": "stdout",
     "output_type": "stream",
     "text": [
      "my list before [1, 3, 4, 5, 6, 67, '3']\n",
      "my list after [1, 'gg', 3, 4, 5, 6, 67, '3']\n"
     ]
    }
   ],
   "source": [
    "#### Inserting item at a specific place\n",
    "print(f'my list before {my_list}')\n",
    "my_list.insert(1,\"gg\")\n",
    "print(f'my list after {my_list}')"
   ]
  },
  {
   "cell_type": "code",
   "execution_count": null,
   "id": "9b5132de-7cad-4682-9579-bbf19f946f7e",
   "metadata": {},
   "outputs": [],
   "source": []
  }
 ],
 "metadata": {
  "kernelspec": {
   "display_name": "Python 3 (ipykernel)",
   "language": "python",
   "name": "python3"
  },
  "language_info": {
   "codemirror_mode": {
    "name": "ipython",
    "version": 3
   },
   "file_extension": ".py",
   "mimetype": "text/x-python",
   "name": "python",
   "nbconvert_exporter": "python",
   "pygments_lexer": "ipython3",
   "version": "3.11.6"
  }
 },
 "nbformat": 4,
 "nbformat_minor": 5
}
