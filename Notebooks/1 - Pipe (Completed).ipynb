{
 "cells": [
  {
   "cell_type": "markdown",
   "id": "1bc6e0e3-d6c3-4299-b92a-c615233f51ea",
   "metadata": {},
   "source": [
    "#### PIPE - 1\n",
    "This pipe covers the following :\n",
    "1. Implementing strong tracker\n",
    "2. Implementing speed tracking"
   ]
  },
  {
   "cell_type": "code",
   "execution_count": 1,
   "id": "b1121cea-47db-4ecd-a666-28f65f787384",
   "metadata": {},
   "outputs": [],
   "source": [
    "import cv2\n",
    "import numpy as np\n",
    "import pandas as pd\n",
    "import torch\n",
    "import time\n",
    "from ultralytics import YOLO\n",
    "from pathlib import Path\n",
    "from boxmot import StrongSORT\n",
    "from utils.utils import *"
   ]
  },
  {
   "cell_type": "code",
   "execution_count": null,
   "id": "fb778a70-a030-48d8-a790-f75e75291465",
   "metadata": {},
   "outputs": [
    {
     "name": "stderr",
     "output_type": "stream",
     "text": [
      "\u001b[32m2024-04-29 15:06:00.074\u001b[0m | \u001b[32m\u001b[1mSUCCESS \u001b[0m | \u001b[36mboxmot.appearance.reid_model_factory\u001b[0m:\u001b[36mload_pretrained_weights\u001b[0m:\u001b[36m207\u001b[0m - \u001b[32m\u001b[1mSuccessfully loaded pretrained weights from \"models/osnet_x0_25_msmt17.pt\"\u001b[0m\n"
     ]
    },
    {
     "name": "stdout",
     "output_type": "stream",
     "text": [
      "for 5 speed is -> 17\n",
      "for 10 speed is -> 20\n",
      "for 28 speed is -> 18\n",
      "for 34 speed is -> 20\n"
     ]
    }
   ],
   "source": [
    "down = {}\n",
    "up = {}\n",
    "text_color = (0, 0, 0)  # Black color for text\n",
    "yellow_color = (0, 255, 255)  # Yellow color for background\n",
    "red_color = (0, 0, 255)  # Red color for lines\n",
    "blue_color = (255, 0, 0)  # Blue color for lines\n",
    "\n",
    "counter_down = []\n",
    "counter_up = []\n",
    "\n",
    "first_boundry_y=170\n",
    "\n",
    "red_line_y = 198\n",
    "\n",
    "blue_line_y = 280\n",
    "\n",
    "offset = 6\n",
    "\n",
    "\n",
    "\n",
    "tracker=tracker_init(reid_model_path='models/',cuda_device=torch.cuda.is_available(),cuda_device_number=1)\n",
    "model=YOLO('yolov8s.pt')\n",
    "video_path='/media/hlink/hd/test_videos/testx_vid_1.mp4'\n",
    "vid = cv2.VideoCapture(video_path)\n",
    "fourcc = cv2.VideoWriter_fourcc(*'XVID')\n",
    "out_main = cv2.VideoWriter('output_strongs.avi', fourcc, 20.0, (1020, 500))\n",
    "while True:    \n",
    "    ret, im = vid.read()\n",
    "    if not ret:\n",
    "        break\n",
    "    \n",
    "    im=cv2.resize(im,(1020, 500))\n",
    "    \n",
    "    results=model.predict(im,conf=0.4,verbose=False,device=[1],classes=[2,3])\n",
    "    \n",
    "    im=line_plotter(frame=im,x_start=100,x_end=774,y=198,line_color=red_color,line_name='boundry 1',line_thickness=2,text_color=text_color)\n",
    "    im=line_plotter(frame=im,x_start=8,x_end=927,y=280,line_color=blue_color,line_name='boundry 2',line_thickness=2,text_color=text_color)\n",
    "    \n",
    "    px,conf=prediction_coordinated_hadler(results)\n",
    "    dets = []\n",
    "    # Experimenting\n",
    "    dets=tracker_element_creator(dets,px,conf)        \n",
    "    \n",
    "    # print('out_from')\n",
    "    \n",
    "    dets = np.array(dets)\n",
    "    # print(dets)\n",
    "    if len(dets) > 0:\n",
    "        tracks = tracker.update(dets, im) # --> M X (x, y, x, y, id, conf, cls, ind)\n",
    "        # print('tracks',tracks)    \n",
    "        for track in tracks:\n",
    "                im,object_id,cx,cy=plot_tracks(track,im)\n",
    "                if red_line_y<(cy+offset) and red_line_y > (cy-offset):\n",
    "                    # print(\"entered if 1\")\n",
    "                    down[object_id]=time.time()\n",
    "            \n",
    "                if object_id in down:\n",
    "                    # print(\"entered if 2\")\n",
    "               \n",
    "                    if blue_line_y<(cy+offset) and blue_line_y > (cy-offset):\n",
    "                         # print(\"entered if 3\")\n",
    "                         elapsed_time=time.time() - down[object_id] \n",
    "                         # print(\"entered if 4\")\n",
    "                         if counter_down.count(object_id)==0:\n",
    "                            # print(\"entered if 5\")\n",
    "                             \n",
    "                            counter_down.append(object_id) \n",
    "    \n",
    "                            distance = 9\n",
    "                            # print(\"entered if 6\")\n",
    "                             \n",
    "                            a_speed_kh=speed_calculator_kmph(distance,elapsed_time)\n",
    "                            # print(\"entered if 7\")\n",
    "                             \n",
    "                            print(f\"for {object_id} speed is -> {a_speed_kh}\")\n",
    "        \n",
    "    out_main.write(im)\n",
    "    # # break on pressing q or spaceq\n",
    "    cv2.imshow('BoxMOT detection', im)     \n",
    "    # key = cv2.waitKey(25) & 0xFF\n",
    "    \n",
    "    if cv2.waitKey(20) & 0xFF == ord('q'):\n",
    "        break\n",
    "\n",
    "vid.release()\n",
    "cv2.destroyAllWindows()"
   ]
  },
  {
   "cell_type": "code",
   "execution_count": 7,
   "id": "f592b4e0-89a4-4b7e-be71-561a99d73465",
   "metadata": {},
   "outputs": [
    {
     "name": "stdout",
     "output_type": "stream",
     "text": [
      "workign\n"
     ]
    }
   ],
   "source": [
    "dets=[]\n",
    "if dets:\n",
    "    print(\"EMty\")\n",
    "else:\n",
    "    print(\"workign\")"
   ]
  },
  {
   "cell_type": "code",
   "execution_count": null,
   "id": "50cd74f1-bf68-40db-a03a-4c312bca4fba",
   "metadata": {},
   "outputs": [],
   "source": []
  }
 ],
 "metadata": {
  "kernelspec": {
   "display_name": "bmt",
   "language": "python",
   "name": "bmt"
  },
  "language_info": {
   "codemirror_mode": {
    "name": "ipython",
    "version": 3
   },
   "file_extension": ".py",
   "mimetype": "text/x-python",
   "name": "python",
   "nbconvert_exporter": "python",
   "pygments_lexer": "ipython3",
   "version": "3.11.6"
  }
 },
 "nbformat": 4,
 "nbformat_minor": 5
}
