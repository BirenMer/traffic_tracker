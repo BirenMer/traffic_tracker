{
 "cells": [
  {
   "cell_type": "markdown",
   "id": "cdde2c95-99a7-4172-bc1b-7b419f38a044",
   "metadata": {},
   "source": [
    "#### PIPE - 2:    \n",
    "This pipe covers the following : \n",
    "1. All the features of pipe 1\n",
    "2. Capturing evidance images\n",
    "3. Creating CSV file with all detection coordinates\n",
    "4. Creating CSV file with violation detection coordinates\n",
    "5. Function to create json based on violation ID for each detected violation done by object"
   ]
  },
  {
   "cell_type": "code",
   "execution_count": 5,
   "id": "292c0780-e1a9-4fc3-a30e-6619236b649e",
   "metadata": {},
   "outputs": [
    {
     "name": "stderr",
     "output_type": "stream",
     "text": [
      "\u001b[32m2024-05-06 12:59:04.370\u001b[0m | \u001b[32m\u001b[1mSUCCESS \u001b[0m | \u001b[36mboxmot.appearance.reid_model_factory\u001b[0m:\u001b[36mload_pretrained_weights\u001b[0m:\u001b[36m207\u001b[0m - \u001b[32m\u001b[1mSuccessfully loaded pretrained weights from \"models/osnet_x0_25_msmt17.pt\"\u001b[0m\n",
      "/home/hlink/workspace/learning/boxmot/bmt/lib/python3.11/site-packages/torch/nn/modules/conv.py:456: UserWarning: Plan failed with an OutOfMemoryError: CUDA out of memory. Tried to allocate 128.00 MiB. GPU  (Triggered internally at ../aten/src/ATen/native/cudnn/Conv_v8.cpp:924.)\n",
      "  return F.conv2d(input, weight, bias, self.stride,\n"
     ]
    },
    {
     "name": "stdout",
     "output_type": "stream",
     "text": [
      "violation_detected : 5\n",
      "for 5 speed is -> 29\n",
      "[1, 2, 1, 2, 1, 2, 1, 2, 1, 2, 3, 1, 2, 3, 1, 2, 3, 1, 2, 1, 2, 1, 2, 1, 2, 1, 2, 1, 2, 1, 2, 2, 2, 2, 2, 2, 2, 2, 2, 2, 5, 2, 5, 2, 5, 2, 5, 5, 5, 5, 5, 5, 5, 5, 5, 5, 5, 5, 5, 5, 5, 5, 5, 5, 5, 5, 5, 5, 5, 5, 5, 5, 5, 5, 5, 5, 5, 5, 5, 5, 5, 5, 5, 5, 5, 5, 5, 5, 5, 5, 5, 5, 5, 5, 5, 9, 5, 9, 5, 9, 9, 9, 9, 9, 9, 9, 9, 9, 9, 5, 9, 5, 10, 5, 10, 5, 5, 5, 9, 9, 5, 5, 9, 9, 9, 9, 9, 9, 10, 9, 10, 9, 10, 5, 10, 5, 5, 5, 9, 9, 9, 9, 9, 9, 5, 5, 9, 9, 9, 9, 5, 5, 10, 5, 10, 9, 5, 9, 10, 5, 10, 5, 10, 5, 10, 5, 10, 5, 10, 5, 10, 5, 10, 5, 10, 5, 10, 5, 10, 5, 10, 5, 10, 5, 10, 5, 10, 5, 10, 5, 10, 5, 10, 5, 10, 5, 10, 5, 10, 5, 10, 5, 5, 5, 10, 5, 5, 10, 5, 10, 5, 10, 5, 10, 5, 10, 5, 10, 5, 10, 5, 10, 5, 10, 5, 10, 5, 10, 5, 5, 5, 10, 5, 10, 5, 10, 5, 10, 5, 10, 5, 10, 5, 10, 5, 10, 5, 10, 5, 10, 5, 10, 5, 10, 5, 10, 5, 10, 5, 10, 5, 10, 5, 10, 5, 10, 5, 10, 5, 10, 5, 10, 5, 10, 5, 10, 5, 10, 5, 10, 5, 10, 5, 10, 5, 5, 10, 5, 10, 12, 5, 10, 12, 5, 10, 5, 10, 5, 10, 5, 10, 5, 10, 5, 10, 5, 10, 5, 10, 5, 10, 5, 10, 5, 10, 5, 10, 5, 10, 5, 10, 5, 10, 5, 10, 5, 10, 5, 10, 5, 10, 5, 10, 5, 10, 12, 5, 10, 12, 5, 10, 5, 10, 5, 10, 5, 10, 5, 10, 5, 10, 5, 10, 5, 10, 5, 10, 5, 10, 5, 10, 5, 10, 5, 10, 5, 10, 5, 10, 5, 10, 5, 10]\n",
      "[5]\n"
     ]
    }
   ],
   "source": [
    "import cv2\n",
    "import numpy as np\n",
    "import pandas as pd\n",
    "import torch\n",
    "import time\n",
    "from ultralytics import YOLO\n",
    "from pathlib import Path\n",
    "from boxmot import StrongSORT\n",
    "from utils.utils import *\n",
    "\n",
    "down = {}\n",
    "up = {}\n",
    "text_color = (0, 0, 0)  # Black color for text\n",
    "yellow_color = (0, 255, 255)  # Yellow color for background\n",
    "red_color = (0, 0, 255)  # Red color for lines\n",
    "blue_color = (255, 0, 0)  # Blue color for lines\n",
    "\n",
    "counter_down = []\n",
    "counter_up = []\n",
    "\n",
    "first_boundry_y=170\n",
    "\n",
    "red_line_y = 198\n",
    "\n",
    "blue_line_y = 280\n",
    "\n",
    "offset = 6\n",
    "# Specify the start and end points of the line\n",
    "start_point = (300, 198)\n",
    "end_point = (300, 280)\n",
    "\n",
    "all_id_tracker=[]\n",
    "voilation_id_tracker=[]\n",
    "\n",
    "tracker=tracker_init(cuda_device=torch.cuda.is_available(),cuda_device_number=1)\n",
    "model=YOLO('yolov8s.pt')\n",
    "video_path='/media/hlink/hd/test_videos/testx_vid_1.mp4'\n",
    "vid = cv2.VideoCapture(video_path)\n",
    "fourcc = cv2.VideoWriter_fourcc(*'XVID')\n",
    "out_main = cv2.VideoWriter('output_strongs.avi', fourcc, 20.0, (1020, 500))\n",
    "frame_count=0\n",
    "while True:    \n",
    "    ret, im = vid.read()\n",
    "    \n",
    "    if not ret:\n",
    "        break\n",
    "    \n",
    "    im=cv2.resize(im,(1020, 500))\n",
    "    \n",
    "    \n",
    "    results=model.predict(im,conf=0.4,verbose=False,device=[1],classes=[2,3])\n",
    "    im=line_plotter(frame=im,x_start=300,x_end=774,y=198,line_color=red_color,line_name='boundry 1',line_thickness=2,text_color=text_color)\n",
    "    im=line_plotter(frame=im,x_start=300,x_end=800,y=280,line_color=blue_color,line_name='boundry 2',line_thickness=2,text_color=text_color)\n",
    "    \n",
    "    # Specify the color of the line in BGR format (here, it's white)\n",
    "    color = (255, 255, 255)\n",
    "    all_frames_record_path=create_directory('all_frames_record')\n",
    "    violation_frames_record_path=create_directory('all_violation_record')\n",
    "    \n",
    "    # Draw the vertical line on the image\n",
    "    thickness = 2  # You can adjust the thickness as needed\n",
    "    cv2.line(im, start_point, end_point, color, thickness)\n",
    "    \n",
    "    # im=cv2.rectangle(im, (300, 198), (800, 280), (255, 255, 255), 2)\n",
    "    \n",
    "    px,conf=prediction_coordinated_hadler(results)\n",
    "    dets = []\n",
    "    # Experimenting\n",
    "    dets=tracker_element_creator(dets,px,conf)        \n",
    "    \n",
    "    # print('out_from')\n",
    "    \n",
    "    dets = np.array(dets)\n",
    "    # print(dets)\n",
    "    if len(dets) > 0:\n",
    "        tracks = tracker.update(dets, im) # --> M X (x, y, x, y, id, conf, cls, ind)\n",
    "        # print('tracks',tracks)    \n",
    "        for track in tracks:\n",
    "                im,object_id,cx,cy,bbox_list=plot_tracks(track,im)\n",
    "               \n",
    "                all_id_tracker.append(object_id)\n",
    "                # Adding file path for csv\n",
    "                csv_file_path=detection_coordinate_write(frame_count,object_id,bbox_list,'all_frame_detection_detail.csv')\n",
    "            \n",
    "                if red_line_y<(cy+offset) and red_line_y > (cy-offset):\n",
    "                    # print(\"entered if 1\")\n",
    "                    down[object_id]=time.time()\n",
    "            \n",
    "                if object_id in down:\n",
    "                    # print(\"entered if 2\")\n",
    "               \n",
    "                    if blue_line_y<(cy+offset) and blue_line_y > (cy-offset):\n",
    "                         # print(\"entered if 3\")\n",
    "                         elapsed_time=time.time() - down[object_id] \n",
    "                         # print(\"entered if 4\")\n",
    "                         if counter_down.count(object_id)==0:\n",
    "                            counter_down.append(object_id) \n",
    "                            distance = 9\n",
    "                            est_speed=speed_calculator_kmph(distance,elapsed_time)\n",
    "                            if est_speed>20:\n",
    "                                print(f'violation_detected : {object_id}')\n",
    "                                voilation_id_tracker.append(object_id)\n",
    "                                violation_frame_writer_op=frame_writer(frame_count,im,violation_frames_record_path)\n",
    "                                violation_csv_file_path=detection_coordinate_write(frame_count,object_id,bbox_list,'violation_frame_detection_detail.csv')\n",
    "                                \n",
    "                            print(f\"for {object_id} speed is -> {est_speed}\")\n",
    "    \n",
    "    all_frame_writer_op=frame_writer(frame_count,im,all_frames_record_path)    \n",
    "    frame_count+=1\n",
    "    out_main.write(im)\n",
    "    \n",
    "    # # break on pressing q or spaceq\n",
    "    cv2.imshow('BoxMOT detection', im)     \n",
    "    # key = cv2.waitKey(25) & 0xFF\n",
    "    \n",
    "    if cv2.waitKey(20) & 0xFF == ord('q'):\n",
    "        break\n",
    "\n",
    "vid.release()\n",
    "cv2.destroyAllWindows()\n",
    "print(all_id_tracker)\n",
    "print(voilation_id_tracker)"
   ]
  },
  {
   "cell_type": "code",
   "execution_count": 5,
   "id": "1bcef4d9-72ad-40c1-b9bf-8dd71164f2a6",
   "metadata": {},
   "outputs": [
    {
     "data": {
      "text/plain": [
       "'/home/hlink/workspace/learning/boxmot/03_05_2024_infenrence_output/all_violation_record/14755.jpg'"
      ]
     },
     "execution_count": 5,
     "metadata": {},
     "output_type": "execute_result"
    }
   ],
   "source": [
    "violation_frame_writer_op"
   ]
  },
  {
   "cell_type": "code",
   "execution_count": 2,
   "id": "c310c856-760b-4643-ac70-2917604991d0",
   "metadata": {},
   "outputs": [
    {
     "name": "stdout",
     "output_type": "stream",
     "text": [
      "{1, 2, 3, 5, 9, 10, 12, 14, 15, 17, 21, 22, 23, 24, 26, 27, 28, 29, 31, 33, 34, 38, 39, 40, 43, 46, 49, 51, 54, 55, 56, 57, 58, 59, 61, 62, 66, 67, 68, 71, 72, 73, 76, 78, 79, 80, 82, 86, 88, 91, 92, 95, 97, 99, 101, 102, 103, 104, 105, 106, 107, 111, 112, 113, 114, 116, 119, 123, 125, 126, 127, 128, 129, 132, 134, 136, 137, 143, 144, 146, 148, 149, 150, 151, 154, 155, 157, 158, 160, 161, 162, 165, 166, 167, 168, 169, 171, 172, 174, 175, 176, 178, 179, 180, 181, 184, 185, 187, 190, 192, 193, 196, 199, 200, 203, 204, 206, 207, 211, 213, 214, 215, 216, 218, 219, 220, 221, 223, 224, 225, 227, 228, 230, 231, 232, 233, 234, 239, 241, 244, 249, 250, 252, 253, 254, 255, 256, 257, 259, 262, 263, 268, 271, 272, 274, 275, 278, 279, 280, 282, 283, 285, 290, 292, 293, 294, 296, 298, 301, 302, 303, 304, 305, 306, 307, 308, 309, 311, 314, 315, 316, 317, 318, 319, 320, 326, 327, 330, 334, 335, 336, 337, 338, 343, 345, 346, 347, 349, 352, 353, 354, 358, 361, 362, 364, 366, 367, 368, 369, 371, 372, 373, 374, 375, 377, 378, 380, 381, 384, 385, 388, 390, 392, 394, 396, 397, 398, 399, 400, 401, 402, 403, 404, 409, 411, 415, 416, 418, 419, 420, 421, 422, 427, 428, 429, 431, 433, 434, 435, 436, 437, 441, 443, 445, 447, 449, 451, 453, 455, 460, 463, 465, 471, 472, 473, 474, 476, 477, 480, 488, 489, 490, 492, 493, 494, 499, 501, 502, 504, 505, 506, 508, 509, 510, 511, 514, 515, 516, 518, 520, 521, 522, 523, 524, 527, 528, 529, 530, 534, 538, 539, 543, 544, 546, 547, 548, 549, 553, 554, 555, 556, 557, 558, 559, 562, 564, 566, 567, 568, 569, 572, 573, 574, 576, 577, 578, 582, 583, 588, 589, 590, 593, 594, 595, 596, 598, 604, 608, 610, 611, 613, 614, 616, 619, 620, 621, 624, 625, 627, 633, 634, 636, 637, 639, 640, 642, 643, 644, 646, 647, 648, 649, 650, 653, 655, 656, 658, 661, 662, 663, 664, 666, 667, 669, 671, 676, 678, 680, 684, 685, 687, 689, 692, 694, 695, 697, 698, 700, 702, 703, 706, 707, 709, 711, 712, 713, 715, 717, 718, 720, 723, 724, 725, 727, 728, 729, 733, 735, 736, 740, 742, 743, 748, 750, 751, 753, 754, 755, 756, 757, 759, 760, 761, 762, 763, 764, 765, 766, 772, 773, 774, 776, 778, 781, 787, 788, 789, 791, 792, 794, 797, 798, 799, 800, 802, 803, 806, 808, 809, 810, 816, 818, 819, 820, 821, 823, 825, 829, 830, 832, 833, 834, 836, 838, 839, 841, 842, 845, 848, 852, 853, 854, 855, 860, 863, 865, 874, 875, 876, 880, 885, 887, 888, 892, 894, 896, 897, 899, 900, 901, 902, 903, 905, 909, 913, 914, 915, 916, 919, 920, 921, 922, 924, 926, 927, 928, 930, 932}\n"
     ]
    }
   ],
   "source": [
    "all_id_tracker=set(all_id_tracker)\n",
    "print(all_id_tracker)"
   ]
  },
  {
   "cell_type": "code",
   "execution_count": 2,
   "id": "85743758-d69c-4b47-b291-ad3149c42ec7",
   "metadata": {},
   "outputs": [
    {
     "name": "stdout",
     "output_type": "stream",
     "text": [
      "223,5,484, 237, 581, 319\n",
      "254,10,463, 223, 570, 329\n",
      "223,5,484, 237, 581, 319\n",
      "254,10,463, 223, 570, 329\n",
      "565,28,558, 250, 598, 305\n",
      "797,34,476, 256, 500, 301\n",
      "1573,72,369, 230, 464, 326\n",
      "1720,88,626, 256, 653, 301\n",
      "2465,107,356, 222, 452, 329\n",
      "2869,113,418, 221, 523, 336\n",
      "3694,174,345, 238, 435, 322\n",
      "3744,169,465, 239, 558, 319\n",
      "3820,180,461, 237, 545, 316\n",
      "4260,213,417, 228, 517, 324\n",
      "4338,214,437, 236, 535, 322\n",
      "4357,220,543, 252, 574, 299\n",
      "4563,223,436, 229, 541, 328\n",
      "4885,239,332, 239, 420, 323\n",
      "4930,241,357, 237, 445, 318\n",
      "5673,274,501, 239, 600, 320\n",
      "5690,263,393, 230, 494, 324\n",
      "6562,315,386, 234, 484, 327\n",
      "6775,320,493, 224, 609, 329\n",
      "7821,367,490, 238, 593, 321\n",
      "8777,401,343, 225, 436, 329\n",
      "9110,422,481, 235, 576, 319\n",
      "9355,455,566, 254, 596, 301\n",
      "10309,522,624, 257, 648, 298\n",
      "10539,530,391, 224, 488, 328\n",
      "10753,557,473, 232, 580, 325\n",
      "11594,637,530, 253, 564, 299\n",
      "12065,650,563, 253, 595, 298\n",
      "13133,735,533, 255, 562, 301\n",
      "13201,742,611, 252, 638, 300\n",
      "14004,794,449, 224, 555, 336\n",
      "14755,852,467, 224, 578, 328\n",
      "\n"
     ]
    }
   ],
   "source": [
    "with open(violation_csv_file_path,'r') as file:\n",
    "    violation_content=file.read()\n",
    "    print(violation_content)"
   ]
  },
  {
   "cell_type": "code",
   "execution_count": 3,
   "id": "1cac0644-a894-4164-8109-69837ac6e463",
   "metadata": {},
   "outputs": [],
   "source": [
    "main_violation_json=voilation_capture_json_creator(voilation_id_tracker,csv_file_path)"
   ]
  },
  {
   "cell_type": "code",
   "execution_count": 4,
   "id": "c83423e2-a9a1-41b5-a388-5a813d293591",
   "metadata": {},
   "outputs": [
    {
     "name": "stdout",
     "output_type": "stream",
     "text": [
      "True\n",
      "True\n",
      "True\n",
      "True\n",
      "True\n",
      "True\n",
      "True\n",
      "True\n",
      "True\n",
      "True\n",
      "True\n",
      "True\n",
      "True\n",
      "True\n",
      "True\n",
      "True\n",
      "True\n",
      "True\n",
      "True\n",
      "True\n",
      "True\n",
      "True\n",
      "True\n",
      "True\n",
      "True\n",
      "True\n",
      "True\n",
      "True\n",
      "True\n",
      "True\n",
      "True\n",
      "True\n",
      "True\n",
      "True\n",
      "CPU times: user 117 µs, sys: 198 µs, total: 315 µs\n",
      "Wall time: 316 µs\n"
     ]
    }
   ],
   "source": [
    "%%time\n",
    "for i in main_violation_json:\n",
    "    order_maintained=frame_order_checker(main_violation_json[i])\n",
    "    print(order_maintained)"
   ]
  },
  {
   "cell_type": "code",
   "execution_count": 90,
   "id": "06b42201-93ab-4239-8928-97887d0ee516",
   "metadata": {},
   "outputs": [],
   "source": [
    "# %%time\n",
    "# from concurrent.futures import ThreadPoolExecutor\n",
    "# with ThreadPoolExecutor(max_workers=1) as executor:\n",
    "#     for i in main_violation_json:\n",
    "#         future = executor.submit(frame_order_checker, main_violation_json[i])\n",
    "#         print(future.result())"
   ]
  },
  {
   "cell_type": "code",
   "execution_count": null,
   "id": "e859a26c-bb2b-4706-ad23-58c56b8d1312",
   "metadata": {},
   "outputs": [],
   "source": []
  },
  {
   "cell_type": "code",
   "execution_count": null,
   "id": "b939b1b6-ec7f-4cbc-a3f9-c6fac3eaba70",
   "metadata": {},
   "outputs": [],
   "source": []
  }
 ],
 "metadata": {
  "kernelspec": {
   "display_name": "bmt",
   "language": "python",
   "name": "bmt"
  },
  "language_info": {
   "codemirror_mode": {
    "name": "ipython",
    "version": 3
   },
   "file_extension": ".py",
   "mimetype": "text/x-python",
   "name": "python",
   "nbconvert_exporter": "python",
   "pygments_lexer": "ipython3",
   "version": "3.11.6"
  }
 },
 "nbformat": 4,
 "nbformat_minor": 5
}
